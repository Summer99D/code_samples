{
 "cells": [
  {
   "cell_type": "markdown",
   "metadata": {},
   "source": [
    "## SQS for survey distribution\n",
    "\n",
    "\n",
    "\n",
    "Summer Negahdar\n"
   ]
  },
  {
   "cell_type": "code",
   "execution_count": 34,
   "metadata": {},
   "outputs": [],
   "source": [
    "## importing packages\n",
    "\n",
    "import boto3\n",
    "import json\n",
    "import time\n",
    "\n",
    "dynamodb = boto3.resource('dynamodb', region_name='us-east-1')\n",
    "aws_lambda = boto3.client('lambda', region_name='us-east-1')\n",
    "sqs = boto3.client('sqs', region_name= \"us-east-1\")\n",
    "iam_client = boto3.client('iam')\n",
    "role = iam_client.get_role(RoleName='LabRole')"
   ]
  },
  {
   "cell_type": "code",
   "execution_count": 36,
   "metadata": {},
   "outputs": [
    {
     "name": "stdout",
     "output_type": "stream",
     "text": [
      "DynamoDB table SurveyResponses_Summer99D_HW06 created.\n"
     ]
    }
   ],
   "source": [
    "# Step 2: Create DynamoDB Table\n",
    "table = dynamodb.create_table(\n",
    "    TableName='SurveyResponses_Summer99D_HW06',\n",
    "    KeySchema=[\n",
    "        {'AttributeName': 'user_id', 'KeyType': 'HASH'},\n",
    "        {'AttributeName': 'timestamp', 'KeyType': 'RANGE'}\n",
    "    ],\n",
    "    AttributeDefinitions=[\n",
    "        {'AttributeName': 'user_id', 'AttributeType': 'S'},\n",
    "        {'AttributeName': 'timestamp', 'AttributeType': 'S'}\n",
    "    ],\n",
    "    ProvisionedThroughput={\n",
    "        'ReadCapacityUnits': 1,\n",
    "        'WriteCapacityUnits': 1\n",
    "    }\n",
    ")\n",
    "table.meta.client.get_waiter('table_exists').wait(TableName='SurveyResponses_Summer99D_HW06')\n",
    "print(\"DynamoDB table SurveyResponses_Summer99D_HW06 created.\")\n"
   ]
  },
  {
   "cell_type": "code",
   "execution_count": 37,
   "metadata": {},
   "outputs": [
    {
     "name": "stdout",
     "output_type": "stream",
     "text": [
      "Retrieved LabRole ARN.\n"
     ]
    }
   ],
   "source": [
    "# Step 3: Get IAM Role ARN\n",
    "role = iam_client.get_role(RoleName='LabRole')\n",
    "role_arn = role['Role']['Arn']\n",
    "print(\"Retrieved LabRole ARN.\")\n",
    "\n"
   ]
  },
  {
   "cell_type": "code",
   "execution_count": 40,
   "metadata": {},
   "outputs": [
    {
     "name": "stdout",
     "output_type": "stream",
     "text": [
      "Lambda function HW6 created.\n"
     ]
    }
   ],
   "source": [
    "\n",
    "# Step 4: Create Lambda Function \n",
    "with open('HW6.zip', 'rb') as f:\n",
    "    lambda_zip = f.read()\n",
    "aws_lambda.create_function(\n",
    "    FunctionName='HW6',\n",
    "    Runtime='python3.9',\n",
    "    Role=role_arn,\n",
    "    Handler='lambda_function.lambda_handler',\n",
    "    Code=dict(ZipFile=lambda_zip),\n",
    "    Timeout=30\n",
    ")\n",
    "print(\"Lambda function HW6 created.\")"
   ]
  },
  {
   "cell_type": "code",
   "execution_count": 44,
   "metadata": {},
   "outputs": [
    {
     "name": "stdout",
     "output_type": "stream",
     "text": [
      "SQS queue created: https://sqs.us-east-1.amazonaws.com/544835564974/survey_queue_summer99d\n"
     ]
    }
   ],
   "source": [
    "# Step 3: Create SQS Queue\n",
    "queue_url = sqs.create_queue(QueueName='survey_queue_summer99d')['QueueUrl']\n",
    "print(f\"SQS queue created: {queue_url}\")"
   ]
  },
  {
   "cell_type": "code",
   "execution_count": 45,
   "metadata": {},
   "outputs": [
    {
     "name": "stdout",
     "output_type": "stream",
     "text": [
      "SQS ARN: arn:aws:sqs:us-east-1:544835564974:survey_queue_summer99d\n"
     ]
    }
   ],
   "source": [
    "# Step 6: Get SQS Queue ARN\n",
    "sqs_info = sqs.get_queue_attributes(QueueUrl=queue_url, AttributeNames=['QueueArn'])\n",
    "sqs_arn = sqs_info['Attributes']['QueueArn']\n",
    "print(f\"SQS ARN: {sqs_arn}\")"
   ]
  },
  {
   "cell_type": "code",
   "execution_count": 47,
   "metadata": {},
   "outputs": [
    {
     "name": "stdout",
     "output_type": "stream",
     "text": [
      "SQS queue linked to Lambda function.\n",
      "SQS Queue URL: https://sqs.us-east-1.amazonaws.com/544835564974/survey_queue_summer99d\n"
     ]
    }
   ],
   "source": [
    "# Step 6: Connect SQS to Lambda\n",
    "aws_lambda.create_event_source_mapping(\n",
    "    EventSourceArn=sqs_arn,\n",
    "    FunctionName='HW6',\n",
    "    Enabled=True,\n",
    "    BatchSize=10\n",
    ")\n",
    "print(\"SQS queue linked to Lambda function.\")\n",
    "\n",
    "print(f\"SQS Queue URL: {queue_url}\")"
   ]
  },
  {
   "cell_type": "code",
   "execution_count": 48,
   "metadata": {},
   "outputs": [],
   "source": [
    "def send_survey(survey_path, sqs_url):\n",
    "    sqs = boto3.client('sqs', region_name='us-east-1')\n",
    "    \n",
    "    # Read the JSON survey file\n",
    "    with open(survey_path, 'r') as f:\n",
    "        survey_data = json.load(f)\n",
    "    \n",
    "    # Convert the survey data to a string\n",
    "    survey_str = json.dumps(survey_data)\n",
    "    \n",
    "    # Send the survey data to the SQS queue\n",
    "    response = sqs.send_message(\n",
    "        QueueUrl=sqs_url,\n",
    "        MessageBody=survey_str\n",
    "    )\n",
    "    \n",
    "    # Check if the message was sent successfully\n",
    "    if response.get('MessageId'):\n",
    "        return 200\n",
    "    return 400"
   ]
  },
  {
   "cell_type": "code",
   "execution_count": 49,
   "metadata": {},
   "outputs": [
    {
     "name": "stdout",
     "output_type": "stream",
     "text": [
      "200\n",
      "200\n",
      "200\n",
      "200\n",
      "200\n",
      "200\n",
      "200\n",
      "200\n",
      "200\n",
      "200\n"
     ]
    }
   ],
   "source": [
    "\n",
    "\n",
    "# List of survey files\n",
    "survey_files = [\n",
    "    'tests/test1.json',\n",
    "    'tests/test2.json',\n",
    "    'tests/test3.json',\n",
    "    'tests/test4.json',\n",
    "    'tests/test5.json',\n",
    "    'tests/test6.json',\n",
    "    'tests/test7.json',\n",
    "    'tests/test8.json',\n",
    "    'tests/test9.json',\n",
    "    'tests/test10.json'\n",
    "]\n",
    "\n",
    "sqs_url = \"https://sqs.us-east-1.amazonaws.com/544835564974/survey_queue_summer99d\"\n",
    "\n",
    "for survey_file in survey_files:\n",
    "    status = send_survey(survey_file, sqs_url)\n",
    "    print(status)\n",
    "    time.sleep(10)\n"
   ]
  },
  {
   "cell_type": "code",
   "execution_count": 52,
   "metadata": {},
   "outputs": [
    {
     "name": "stdout",
     "output_type": "stream",
     "text": [
      "\n",
      "DynamoDB table contents:\n",
      "{'q1': Decimal('3'), 'q2': Decimal('3'), 'user_id': '0005', 'q3': Decimal('3'), 'q4': Decimal('3'), 'q5': Decimal('3'), 'num_submission': Decimal('1'), 'timestamp': '092821122000', 'freetext': \"I'm feeling okay, but not spectacular\"}\n",
      "{'q1': Decimal('5'), 'q2': Decimal('3'), 'user_id': '0001', 'q3': Decimal('2'), 'q4': Decimal('2'), 'q5': Decimal('4'), 'num_submission': Decimal('5'), 'timestamp': '092821120000', 'freetext': 'I had a very bad day today...'}\n",
      "{'q1': Decimal('5'), 'q2': Decimal('3'), 'user_id': '0001', 'q3': Decimal('2'), 'q4': Decimal('2'), 'q5': Decimal('4'), 'num_submission': Decimal('2'), 'timestamp': '092821120100', 'freetext': ''}\n",
      "{'q1': Decimal('1'), 'q2': Decimal('3'), 'user_id': '0001', 'q3': Decimal('2'), 'q4': Decimal('2'), 'q5': Decimal('5'), 'num_submission': Decimal('3'), 'timestamp': '092921120000', 'freetext': 'Not looking forward to going to work today'}\n",
      "{'q1': Decimal('1'), 'q2': Decimal('1'), 'user_id': '0001', 'q3': Decimal('2'), 'q4': Decimal('2'), 'q5': Decimal('2'), 'num_submission': Decimal('4'), 'timestamp': '093021120300', 'freetext': \"I lost my car keys this afternoon at lunch, so I'm more stressed than normal\"}\n",
      "{'q1': Decimal('1'), 'q2': Decimal('1'), 'user_id': '0004', 'q3': Decimal('1'), 'q4': Decimal('1'), 'q5': Decimal('1'), 'num_submission': Decimal('1'), 'timestamp': '092821120002', 'freetext': 'I had a very bad day today...'}\n",
      "{'q1': Decimal('1'), 'q2': Decimal('3'), 'user_id': '0003', 'q3': Decimal('3'), 'q4': Decimal('1'), 'q5': Decimal('4'), 'num_submission': Decimal('1'), 'timestamp': '092821120001', 'freetext': 'It was a beautiful, sunny day today.'}\n",
      "{'q1': Decimal('4'), 'q2': Decimal('1'), 'user_id': '0002', 'q3': Decimal('1'), 'q4': Decimal('1'), 'q5': Decimal('3'), 'num_submission': Decimal('1'), 'timestamp': '092821120000', 'freetext': \"I'm having a great day!\"}\n"
     ]
    }
   ],
   "source": [
    "\n",
    "# Verify DynamoDB table\n",
    "print(\"\\nDynamoDB table contents:\")\n",
    "table = dynamodb.Table(\"SurveyResponses_Summer99D_HW06\")\n",
    "records = table.scan()['Items']\n",
    "if records:\n",
    "    for record in records:\n",
    "        print(record)\n",
    "else:\n",
    "    print(\"No records found in SurveyResponses_Summer99D_HW06 table. Checking table status...\")\n",
    "    dynamodb_client = boto3.client('dynamodb', region_name='us-east-1')\n",
    "    try:\n",
    "        table_description = dynamodb_client.describe_table(TableName=\"SurveyResponses_Summer99D_HW06\")\n",
    "        print(f\"Table status: {table_description['Table']['TableStatus']}\")\n",
    "        print(f\"Table item count: {table_description['Table']['ItemCount']}\")\n",
    "    except dynamodb_client.exceptions.ResourceNotFoundException:\n",
    "        print(\"Table SurveyResponses_Summer99D_HW06 does not exist.\")"
   ]
  },
  {
   "cell_type": "code",
   "execution_count": 53,
   "metadata": {},
   "outputs": [
    {
     "name": "stdout",
     "output_type": "stream",
     "text": [
      "S3 bucket contents:\n",
      "0001092821120000.json\n",
      "0001092821120100.json\n",
      "0001092921120000.json\n",
      "0001093021120300.json\n",
      "0002092821120000.json\n",
      "0003092821120001.json\n",
      "0004092821120002.json\n",
      "0005092821122000.json\n",
      "test_responses/response_0.json\n",
      "test_responses/response_1.json\n",
      "test_responses/response_2.json\n",
      "test_responses/response_3.json\n",
      "test_responses/response_4.json\n",
      "test_responses/response_5.json\n",
      "test_responses/response_6.json\n"
     ]
    }
   ],
   "source": [
    "# Verify S3 bucket\n",
    "print(\"S3 bucket contents:\")\n",
    "response = s3_client.list_objects_v2(Bucket='hw05-summer99d')\n",
    "objects = response.get('Contents', [])\n",
    "if objects:\n",
    "    for obj in objects:\n",
    "        print(obj['Key'])\n",
    "else:\n",
    "    print(\"No objects found in S3 bucket hw05-summer99d.\")"
   ]
  },
  {
   "cell_type": "code",
   "execution_count": 56,
   "metadata": {},
   "outputs": [
    {
     "name": "stdout",
     "output_type": "stream",
     "text": [
      "AWS Lambda Function Already Deleted\n",
      "SQS Queue Already Deleted\n",
      "DynamoDB Table Deleted\n"
     ]
    }
   ],
   "source": [
    "# Delete each pipeline component if it still exists:\n",
    "# Lambda\n",
    "try:\n",
    "    aws_lambda.delete_function(FunctionName='HW6')\n",
    "    print(\"Lambda Function Deleted\")\n",
    "except aws_lambda.exceptions.ResourceNotFoundException:\n",
    "    print(\"AWS Lambda Function Already Deleted\")\n",
    "\n",
    "# SQS\n",
    "try:\n",
    "    sqs.delete_queue(QueueUrl=sqs_url)\n",
    "    print(\"SQS Queue Deleted\")\n",
    "except sqs.exceptions.QueueDoesNotExist:\n",
    "    print(\"SQS Queue Already Deleted\")\n",
    "\n",
    "# DynamoDB\n",
    "dynamodb = boto3.client('dynamodb', region_name= 'us-east-1')\n",
    "try:\n",
    "    response = dynamodb.delete_table(TableName='SurveyResponses_Summer99D_HW06')\n",
    "    print(\"DynamoDB Table Deleted\")\n",
    "except dynamodb.exceptions.ResourceNotFoundException:\n",
    "    print(\"DynamoDB Table Already Deleted\")"
   ]
  }
 ],
 "metadata": {
  "kernelspec": {
   "display_name": "Python 3",
   "language": "python",
   "name": "python3"
  },
  "language_info": {
   "codemirror_mode": {
    "name": "ipython",
    "version": 3
   },
   "file_extension": ".py",
   "mimetype": "text/x-python",
   "name": "python",
   "nbconvert_exporter": "python",
   "pygments_lexer": "ipython3",
   "version": "3.9.6"
  }
 },
 "nbformat": 4,
 "nbformat_minor": 2
}
