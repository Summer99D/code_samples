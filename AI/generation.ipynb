{
 "cells": [
  {
   "cell_type": "code",
   "execution_count": 1,
   "metadata": {},
   "outputs": [],
   "source": [
    "\n",
    "import pandas as pd\n",
    "import numpy as np\n",
    "from tqdm import tqdm\n",
    "from openai import OpenAI\n",
    "from settings import config\n",
    "import os"
   ]
  },
  {
   "cell_type": "code",
   "execution_count": 2,
   "metadata": {},
   "outputs": [
    {
     "name": "stdout",
     "output_type": "stream",
     "text": [
      "API Connected!\n"
     ]
    }
   ],
   "source": [
    "openai_api = config('OPENAI_API')\n",
    "key = openai_api\n",
    "client = OpenAI(api_key = key)\n",
    "print('API Connected!')"
   ]
  },
  {
   "cell_type": "code",
   "execution_count": 3,
   "metadata": {},
   "outputs": [
    {
     "name": "stderr",
     "output_type": "stream",
     "text": [
      "Generating topics: 100%|██████████| 10200/10200 [1:06:10<00:00,  2.57it/s]\n",
      "Generating topics: 100%|██████████| 10200/10200 [2:56:19<00:00,  1.04s/it]      \n",
      "Generating topics: 100%|██████████| 10200/10200 [1:07:10<00:00,  2.53it/s]"
     ]
    },
    {
     "name": "stdout",
     "output_type": "stream",
     "text": [
      "Results for all personas saved to output/topics_personas_20250505_144322.csv\n"
     ]
    },
    {
     "name": "stderr",
     "output_type": "stream",
     "text": [
      "\n"
     ]
    }
   ],
   "source": [
    "def generate_topics(articles, model=\"gpt-4.1-nano\", temperature=0.1, persona=None, system_prompt=None):\n",
    "    generations = []\n",
    "\n",
    "    for article in tqdm(articles, desc=\"Generating topics\"):\n",
    "        # Construct persona prompt\n",
    "        persona_intro = \"\"\n",
    "        if persona == \"bull\":\n",
    "            persona_intro = \"You are an overly optimistic investor who sees opportunity in every situation.\"\n",
    "        elif persona == \"bear\":\n",
    "            persona_intro = \"You are a deeply skeptical investor who sees risk and danger in market developments.\"\n",
    "\n",
    "        # System prompt\n",
    "        system_msg = system_prompt or \"You are a financial analyst summarizing potential economic or market risks from news articles.\"\n",
    "\n",
    "        # User prompt\n",
    "        user_prompt = f\"\"\"{persona_intro}\n",
    "        \n",
    "Please analyze the following article and list one potential economic or financial **topic or risk factors** that emerge from it. Only 1-3 keywords.\n",
    "\n",
    "Article:\n",
    "\\\"\\\"\\\"{article}\\\"\\\"\\\"\n",
    "\n",
    "Please format your response as:\n",
    "{{Topic}}\n",
    "    \n",
    "    \n",
    "\"\"\"\n",
    "\n",
    "        response = client.chat.completions.create(\n",
    "            model=model,\n",
    "            temperature=temperature,\n",
    "            max_tokens=50,  #set this based on how long you expect the output to be!\n",
    "            messages=[\n",
    "                {\"role\": \"system\", \"content\": system_msg},\n",
    "                {\"role\": \"user\", \"content\": user_prompt}\n",
    "            ]\n",
    "        )\n",
    "\n",
    "        output = response.choices[0].message.content.strip()\n",
    "        generations.append(output)\n",
    "\n",
    "    return generations\n",
    "\n",
    "#------------------------------------------------------------------------------\n",
    "\n",
    "file_path = \"articles.pq\"\n",
    "df_articles = pd.read_parquet(file_path)\n",
    "articles = df_articles['headline'].tolist()\n",
    "\n",
    "# Generate topics for different personas\n",
    "personas = ['neutral', 'bear', 'bull']\n",
    "for persona in personas:\n",
    "    col_name = f'generated_topics_{persona}'\n",
    "    df_articles[col_name] = generate_topics(articles, temperature=0.3, persona=persona if persona != 'neutral' else None)\n",
    "\n",
    "# Save all results to a single CSV\n",
    "output_dir = \"output\"\n",
    "if not os.path.exists(output_dir):\n",
    "    os.makedirs(output_dir)\n",
    "timestamp = pd.Timestamp.now().strftime('%Y%m%d_%H%M%S')\n",
    "output_file = f\"{output_dir}/topics_personas_{timestamp}.csv\"\n",
    "df_articles[['headline', 'display_date', 'generated_topics_neutral', 'generated_topics_bear', 'generated_topics_bull']].to_csv(output_file)\n",
    "print(f\"Results for all personas saved to {output_file}\")"
   ]
  }
 ],
 "metadata": {
  "kernelspec": {
   "display_name": "Python 3",
   "language": "python",
   "name": "python3"
  },
  "language_info": {
   "codemirror_mode": {
    "name": "ipython",
    "version": 3
   },
   "file_extension": ".py",
   "mimetype": "text/x-python",
   "name": "python",
   "nbconvert_exporter": "python",
   "pygments_lexer": "ipython3",
   "version": "3.9.6"
  }
 },
 "nbformat": 4,
 "nbformat_minor": 2
}
