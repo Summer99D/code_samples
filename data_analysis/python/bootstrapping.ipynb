{
 "cells": [
  {
   "cell_type": "markdown",
   "metadata": {},
   "source": [
    "I wanted to try different sample selection models and see which one is the fastest, which one is the most precise one and which one is the simplest (chosses the least number of variables) \n",
    "here is one for Kfold cross validation:"
   ]
  },
  {
   "cell_type": "code",
   "execution_count": null,
   "metadata": {
    "vscode": {
     "languageId": "plaintext"
    }
   },
   "outputs": [],
   "source": [
    "\n",
    "## I wanna predict per capita crime rate using Boston dataset\n",
    "X = boston.drop(columns=['CRIM'])\n",
    "y = boston['CRIM']\n",
    "ols = LinearRegression()\n",
    "\n",
    "# RMSE (Root Mean Squared Error) function\n",
    "def calculate_rmse(model, X, y):\n",
    "    y_pred = model.predict(X)\n",
    "    rmse = np.sqrt(mean_squared_error(y, y_pred))\n",
    "    return rmse\n",
    "\n",
    "# R2 Scorer function\n",
    "def R2_scorer(estimator, X, y):\n",
    "    y_pred = estimator.predict(X)\n",
    "    return r2_score(y, y_pred)\n",
    "\n",
    "# RMSE scorer for the model evaluation\n",
    "rmse_scorer = make_scorer(mean_squared_error, squared=False)\n",
    "\n",
    "# Extract the best subset of features based on R^2 score\n",
    "best_subset = max(efs.subsets_.values(), key=lambda x: x['avg_score'])\n",
    "best_features_tuple = best_subset['feature_names']\n",
    "best_features = list(best_features_tuple)\n",
    "\n",
    "# Calculate RMSE for best subset using KFold cross-validation\n",
    "kfcv = KFold(n_splits=5, shuffle=True, random_state=24)\n",
    "rmse_scores_best = []\n",
    "\n",
    "for train_index, test_index in kfcv.split(X[best_features], y):\n",
    "    X_train, X_test = X[best_features].iloc[train_index], X[best_features].iloc[test_index]\n",
    "    y_train, y_test = y.iloc[train_index], y.iloc[test_index]\n",
    "    model = LinearRegression()\n",
    "    model.fit(X_train, y_train)\n",
    "    rmse = calculate_rmse(model, X_test, y_test)\n",
    "    rmse_scores_best.append(rmse)\n",
    "\n",
    "test_error_best = np.mean(rmse_scores_best)\n",
    "\n"
   ]
  },
  {
   "cell_type": "markdown",
   "metadata": {},
   "source": [
    "so we have 8191 featurs! if we wanna rely on best subset model, it will take 11 seconds which is much larger than backward or forward stepwise selection. forward stepwise selection has a large test error compared to best subset model which shows it is nto precise but BSM has a smaller test error compared to best model selection! \n",
    "(which is very weird!) but it makes sense because BSW uses much more features compared to best subset model!"
   ]
  }
 ],
 "metadata": {
  "language_info": {
   "name": "python"
  }
 },
 "nbformat": 4,
 "nbformat_minor": 2
}
