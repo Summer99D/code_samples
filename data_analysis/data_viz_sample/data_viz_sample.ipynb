{
 "cells": [
  {
   "cell_type": "markdown",
   "metadata": {},
   "source": [
    "## Analysis on Boston's crime rate and housing \n",
    "\n",
    "### To hiring managers checking this: \n",
    "this is not a producable code, it is a selected snippet of a long project.\n",
    "the dataset has not been uploaded, neither have the packages been called. please go to readME file for complete project and further details.\n",
    "\n"
   ]
  },
  {
   "cell_type": "code",
   "execution_count": null,
   "metadata": {},
   "outputs": [],
   "source": [
    "##there are some outliers in crime column so I will use log for it!\n",
    "\n",
    "columns = boston_df.columns\n",
    "# Set up the 2x2 grid\n",
    "fig, axes = plt.subplots(5, 3, figsize=(12, 10))\n",
    "\n",
    "# Create scatter plots of CRIM against each of the other columns (to select significant variables)\n",
    "plot_index = 0\n",
    "for column in columns:\n",
    "    if column != 'CRIM':  # Skip the 'CRIM' column for the y-axis\n",
    "        # Create scatter plot in the current subplot\n",
    "        axes[plot_index].scatter(np.log(boston_df['CRIM'] +1), boston_df[column], alpha=0.6)\n",
    "        axes[plot_index].set_title(f'Scatterplot of CRIM vs {column}')\n",
    "        axes[plot_index].set_xlabel('CRIM')\n",
    "        axes[plot_index].set_ylabel(column)\n",
    "        axes[plot_index].grid(True)\n",
    "\n",
    "        # Set x-ticks to show every 5 units\n",
    "        max_crim = np.log(boston_df['CRIM'] + 1).max()\n",
    "        step = 5\n",
    "        axes[plot_index].set_xticks(range(0, int(max_crim) + step, step))\n",
    "        # rotate the x-axis labels by 90 degrees\n",
    "        axes[plot_index].tick_params(axis='x', rotation=90)\n",
    "\n",
    "        \n",
    "        plot_index += 1\n",
    "\n",
    "for i in range(plot_index, len(axes)):\n",
    "    axes[i].axis('off')\n",
    "\n",
    "plt.tight_layout(pad=2.0)\n",
    "plt.show()\n",
    "\n"
   ]
  }
 ],
 "metadata": {
  "language_info": {
   "name": "python"
  }
 },
 "nbformat": 4,
 "nbformat_minor": 2
}
